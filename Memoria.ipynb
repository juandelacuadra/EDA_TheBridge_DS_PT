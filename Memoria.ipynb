{
 "cells": [
  {
   "attachments": {},
   "cell_type": "markdown",
   "metadata": {},
   "source": [
    "# EDA - Proyecto final módulo Data Analysis\n",
    "### The Bridge - Data Science (Part Time) - Sevilla\n",
    "\n",
    "![The Bridge](misc/TheBridge_logo.png)\n",
    "\n",
    "----"
   ]
  },
  {
   "cell_type": "code",
   "execution_count": null,
   "metadata": {},
   "outputs": [],
   "source": []
  }
 ],
 "metadata": {
  "kernelspec": {
   "display_name": "Python 3",
   "language": "python",
   "name": "python3"
  },
  "language_info": {
   "name": "python",
   "version": "3.7.4 (tags/v3.7.4:e09359112e, Jul  8 2019, 20:34:20) [MSC v.1916 64 bit (AMD64)]"
  },
  "orig_nbformat": 4,
  "vscode": {
   "interpreter": {
    "hash": "fc63dedab61733c016f5344464e976104a1b4be3f24f273e7867a8d9cb58ba2b"
   }
  }
 },
 "nbformat": 4,
 "nbformat_minor": 2
}
