{
 "cells": [
  {
   "attachments": {},
   "cell_type": "markdown",
   "metadata": {},
   "source": [
    "# Ticketmaster"
   ]
  },
  {
   "attachments": {},
   "cell_type": "markdown",
   "metadata": {},
   "source": [
    "Dataframes: \n",
    "\n",
    "df_top_world -> \n",
    "\n"
   ]
  },
  {
   "cell_type": "code",
   "execution_count": 1,
   "metadata": {},
   "outputs": [],
   "source": [
    "import pandas as pd\n",
    "import numpy as np\n",
    "import json\n",
    "import requests\n",
    "import time\n",
    "import datetime\n",
    "import math\n",
    "\n",
    "import matplotlib.pyplot as plt\n",
    "import seaborn as sb\n",
    "import squarify"
   ]
  },
  {
   "attachments": {},
   "cell_type": "markdown",
   "metadata": {},
   "source": [
    "**1 -> CONEXIÓN CON API**"
   ]
  },
  {
   "attachments": {},
   "cell_type": "markdown",
   "metadata": {},
   "source": [
    "Defino mis constantes"
   ]
  },
  {
   "cell_type": "code",
   "execution_count": 3,
   "metadata": {},
   "outputs": [],
   "source": [
    "CONSUMER_KEY = 'I6gig2YeQG5W2olP97WTZUTIsZdmOvBu'\n",
    "CONSUMER_SECRET = 'ppicZEn885O5uMJs'\n",
    "\n",
    "# AUTH_URL = 'https://accounts.spotify.com/api/token' # PARA OBTENER LA AUTORIZACIÓN\n",
    "ROOT_URL = 'https://app.ticketmaster.com/discovery/v2/' # PARA LAS CONSULTAS"
   ]
  },
  {
   "attachments": {},
   "cell_type": "markdown",
   "metadata": {},
   "source": [
    "Obtengo el token de acceso a la API"
   ]
  },
  {
   "cell_type": "code",
   "execution_count": 30,
   "metadata": {},
   "outputs": [],
   "source": [
    "# POST PARA OBTENER EL TOKEN DE ACCESO\n",
    "auth_response = requests.post(AUTH_URL, {\n",
    "    'grant_type': 'client_credentials',\n",
    "    'client_id': CLIENT_ID,\n",
    "    'client_secret': CLIENT_SECRET,\n",
    "})\n",
    "\n",
    "# CONVIERTO A JSON\n",
    "auth_response_data = auth_response.json()\n",
    "\n",
    "# ALMACENO EN LA VARIABLE \n",
    "access_token = auth_response_data['access_token']\n",
    "\n",
    "# LA INCLUYO EN LOS HEADERS EN SU FORMATO ESPECÍFICO.\n",
    "headers = {\n",
    "    'Authorization': 'Bearer {token}'.format(token=access_token)\n",
    "}"
   ]
  },
  {
   "cell_type": "code",
   "execution_count": 7,
   "metadata": {},
   "outputs": [
    {
     "data": {
      "text/plain": [
       "{'_links': {'self': {'href': '/discovery/v2/events.json?countryCode=CA&attractionId=K8vZ917Gku7'}},\n",
       " 'page': {'size': 20, 'totalElements': 0, 'totalPages': 0, 'number': 0}}"
      ]
     },
     "execution_count": 7,
     "metadata": {},
     "output_type": "execute_result"
    }
   ],
   "source": [
    "# events = requests.get(ROOT_URL + 'events.json?' + '&apikey=' + CONSUMER_KEY)\n",
    "events = requests.get('https://app.ticketmaster.com/discovery/v2/events.json?attractionId=K8vZ917Gku7&countryCode=CA&apikey=I6gig2YeQG5W2olP97WTZUTIsZdmOvBu')\n",
    "events_prueba = events.json()\n",
    "\n",
    "events_prueba"
   ]
  }
 ],
 "metadata": {
  "kernelspec": {
   "display_name": "Python 3",
   "language": "python",
   "name": "python3"
  },
  "language_info": {
   "codemirror_mode": {
    "name": "ipython",
    "version": 3
   },
   "file_extension": ".py",
   "mimetype": "text/x-python",
   "name": "python",
   "nbconvert_exporter": "python",
   "pygments_lexer": "ipython3",
   "version": "3.7.4 (tags/v3.7.4:e09359112e, Jul  8 2019, 20:34:20) [MSC v.1916 64 bit (AMD64)]"
  },
  "orig_nbformat": 4,
  "vscode": {
   "interpreter": {
    "hash": "fc63dedab61733c016f5344464e976104a1b4be3f24f273e7867a8d9cb58ba2b"
   }
  }
 },
 "nbformat": 4,
 "nbformat_minor": 2
}
