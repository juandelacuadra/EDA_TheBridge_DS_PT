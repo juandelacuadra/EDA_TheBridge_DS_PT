{
 "cells": [
  {
   "attachments": {},
   "cell_type": "markdown",
   "metadata": {},
   "source": [
    "# Ticketmaster"
   ]
  },
  {
   "attachments": {},
   "cell_type": "markdown",
   "metadata": {},
   "source": [
    "Dataframes: \n",
    "\n",
    "df_top_world -> \n",
    "\n"
   ]
  },
  {
   "cell_type": "code",
   "execution_count": 1,
   "metadata": {},
   "outputs": [],
   "source": [
    "import pandas as pd\n",
    "import numpy as np\n",
    "import json\n",
    "import requests\n",
    "import time\n",
    "import datetime\n",
    "import math\n",
    "\n",
    "import matplotlib.pyplot as plt\n",
    "import seaborn as sb\n",
    "import squarify"
   ]
  },
  {
   "attachments": {},
   "cell_type": "markdown",
   "metadata": {},
   "source": [
    "**1 -> CONEXIÓN CON API**"
   ]
  },
  {
   "attachments": {},
   "cell_type": "markdown",
   "metadata": {},
   "source": [
    "Defino mis constantes"
   ]
  },
  {
   "cell_type": "code",
   "execution_count": 28,
   "metadata": {},
   "outputs": [],
   "source": [
    "CLIENT_ID = 'b00cc762eb664d2f8fc50e24c09d419b'\n",
    "CLIENT_SECRET = '1db8591d49634b39aa8949b91b97bb2e'\n",
    "\n",
    "AUTH_URL = 'https://accounts.spotify.com/api/token' # PARA OBTENER LA AUTORIZACIÓN\n",
    "BASE_URL = 'https://api.spotify.com/v1/' # PARA LAS CONSULTAS"
   ]
  },
  {
   "attachments": {},
   "cell_type": "markdown",
   "metadata": {},
   "source": [
    "Obtengo el token de acceso a la API"
   ]
  },
  {
   "cell_type": "code",
   "execution_count": 30,
   "metadata": {},
   "outputs": [],
   "source": [
    "# POST PARA OBTENER EL TOKEN DE ACCESO\n",
    "auth_response = requests.post(AUTH_URL, {\n",
    "    'grant_type': 'client_credentials',\n",
    "    'client_id': CLIENT_ID,\n",
    "    'client_secret': CLIENT_SECRET,\n",
    "})\n",
    "\n",
    "# CONVIERTO A JSON\n",
    "auth_response_data = auth_response.json()\n",
    "\n",
    "# ALMACENO EN LA VARIABLE \n",
    "access_token = auth_response_data['access_token']\n",
    "\n",
    "# LA INCLUYO EN LOS HEADERS EN SU FORMATO ESPECÍFICO.\n",
    "headers = {\n",
    "    'Authorization': 'Bearer {token}'.format(token=access_token)\n",
    "}"
   ]
  }
 ],
 "metadata": {
  "kernelspec": {
   "display_name": "Python 3",
   "language": "python",
   "name": "python3"
  },
  "language_info": {
   "codemirror_mode": {
    "name": "ipython",
    "version": 3
   },
   "file_extension": ".py",
   "mimetype": "text/x-python",
   "name": "python",
   "nbconvert_exporter": "python",
   "pygments_lexer": "ipython3",
   "version": "3.7.4"
  },
  "orig_nbformat": 4,
  "vscode": {
   "interpreter": {
    "hash": "fc63dedab61733c016f5344464e976104a1b4be3f24f273e7867a8d9cb58ba2b"
   }
  }
 },
 "nbformat": 4,
 "nbformat_minor": 2
}
